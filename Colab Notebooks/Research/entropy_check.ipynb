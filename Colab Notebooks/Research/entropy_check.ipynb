{
  "cells": [
    {
      "cell_type": "code",
      "execution_count": 1,
      "metadata": {
        "colab": {
          "base_uri": "https://localhost:8080/"
        },
        "id": "NFpF6xyqCVW3",
        "outputId": "41ce2679-0948-4a07-e81f-68f26e62ecdc"
      },
      "outputs": [
        {
          "output_type": "stream",
          "name": "stdout",
          "text": [
            "Mounted at /drive\n"
          ]
        }
      ],
      "source": [
        "from google.colab import drive\n",
        "drive.mount('/drive')"
      ]
    },
    {
      "cell_type": "code",
      "execution_count": 2,
      "metadata": {
        "id": "ZcoYgOZblScD"
      },
      "outputs": [],
      "source": [
        "import cv2\n",
        "import numpy as np\n",
        "import matplotlib.pyplot as plt\n",
        "\n",
        "def compute_frequency(image_patch):\n",
        "    f_transform = np.fft.fft2(image_patch)\n",
        "    f_transform_shifted = np.fft.fftshift(f_transform)\n",
        "    magnitude_spectrum = np.log(np.abs(f_transform_shifted) + 1)\n",
        "    return np.mean(magnitude_spectrum)\n",
        "\n",
        "def create_frequency_mask(image_path, patch_size=50):\n",
        "    img = cv2.imread(image_path, cv2.IMREAD_GRAYSCALE)\n",
        "\n",
        "    height, width = img.shape\n",
        "    mask = np.zeros((height, width), dtype=np.uint8)\n",
        "    frequencies = []\n",
        "\n",
        "    for y in range(0, height - patch_size + 1, patch_size):\n",
        "        for x in range(0, width - patch_size + 1, patch_size):\n",
        "            patch = img[y:y+patch_size, x:x+patch_size]\n",
        "\n",
        "            avg_frequency = compute_frequency(patch)\n",
        "            frequencies.append(avg_frequency)\n",
        "\n",
        "    # Calculate the average frequency_threshold\n",
        "    average_frequency_threshold = np.mean(frequencies)\n",
        "    print(\"average_frequency_threshold = \", average_frequency_threshold)\n",
        "    print(\"max = \", max(frequencies))\n",
        "    print(\"min = \", min(frequencies))\n",
        "\n",
        "\n",
        "    for y in range(0, height - patch_size + 1, patch_size):\n",
        "        for x in range(0, width - patch_size + 1, patch_size):\n",
        "            patch = img[y:y+patch_size, x:x+patch_size]\n",
        "\n",
        "            avg_frequency = compute_frequency(patch)\n",
        "\n",
        "            if avg_frequency >= average_frequency_threshold:\n",
        "                mask[y:y+patch_size, x:x+patch_size] = 255  # Set patch to white in the mask\n",
        "\n",
        "    # Handle remaining rows and columns\n",
        "    if height % patch_size != 0:\n",
        "        for x in range(0, width - patch_size + 1, patch_size):\n",
        "            patch = img[height - patch_size:height, x:x+patch_size]\n",
        "            avg_frequency = compute_frequency(patch)\n",
        "            if avg_frequency >= average_frequency_threshold:\n",
        "                mask[height - patch_size:height, x:x+patch_size] = 255\n",
        "\n",
        "    if width % patch_size != 0:\n",
        "        for y in range(0, height - patch_size + 1, patch_size):\n",
        "            patch = img[y:y+patch_size, width - patch_size:width]\n",
        "            avg_frequency = compute_frequency(patch)\n",
        "            if avg_frequency >= average_frequency_threshold:\n",
        "                mask[y:y+patch_size, width - patch_size:width] = 255\n",
        "\n",
        "    return mask\n"
      ]
    },
    {
      "cell_type": "code",
      "execution_count": 3,
      "metadata": {
        "id": "6ivNHn6Nsf-0"
      },
      "outputs": [],
      "source": [
        "import re\n",
        "def extract_numbers_from_filename(filename):\n",
        "    # Use regular expression to find numbers in the filename\n",
        "    match = re.search(r'\\d+', filename)\n",
        "\n",
        "    # If numbers are found, convert them to an integer\n",
        "    if match:\n",
        "        return int(match.group())\n",
        "    else:\n",
        "        return None"
      ]
    },
    {
      "cell_type": "code",
      "execution_count": 4,
      "metadata": {
        "id": "Og9ptuevtFkF"
      },
      "outputs": [],
      "source": [
        "def remove_small_blobs(mask, min_blob_size):\n",
        "    # Find contours in the mask\n",
        "    contours, _ = cv2.findContours(mask, cv2.RETR_EXTERNAL, cv2.CHAIN_APPROX_SIMPLE)\n",
        "\n",
        "    # Filter out small contours (blobs)\n",
        "    filtered_contours = [cnt for cnt in contours if cv2.contourArea(cnt) >= min_blob_size]\n",
        "\n",
        "    # Create an empty mask to draw the filtered contours\n",
        "    filtered_mask = np.zeros_like(mask)\n",
        "\n",
        "    # Draw the filtered contours on the mask\n",
        "    cv2.drawContours(filtered_mask, filtered_contours, -1, 255, thickness=cv2.FILLED)\n",
        "\n",
        "    return filtered_mask"
      ]
    },
    {
      "cell_type": "code",
      "source": [
        "import cv2\n",
        "import os"
      ],
      "metadata": {
        "id": "nUDqs-nhn0Az"
      },
      "execution_count": 6,
      "outputs": []
    },
    {
      "cell_type": "code",
      "execution_count": 7,
      "metadata": {
        "id": "qRLEC_gGsks_",
        "colab": {
          "base_uri": "https://localhost:8080/",
          "height": 900
        },
        "outputId": "0875c057-12b6-43be-dd0f-f8e4431a7fad"
      },
      "outputs": [
        {
          "output_type": "stream",
          "name": "stdout",
          "text": [
            "average_frequency_threshold =  4.409714790976881\n",
            "max =  5.656729585080069\n",
            "min =  2.8645854250587246\n",
            "/content/mask/img1/back_hr_mask.png\n",
            "/content/mask/img1/back_lr_mask.png\n",
            "/content/mask/img1/obj_hr_mask.png\n",
            "/content/mask/img1/obj_lr_mask.png\n"
          ]
        },
        {
          "output_type": "display_data",
          "data": {
            "text/plain": [
              "<Figure size 640x480 with 1 Axes>"
            ],
            "image/png": "[encoded data removed]"
          },
          "metadata": {}
        },
        {
          "output_type": "display_data",
          "data": {
            "text/plain": [
              "<Figure size 640x480 with 1 Axes>"
            ],
            "image/png": "[encoded data removed]"
          },
          "metadata": {}
        }
      ],
      "source": [
        "def create_mask(image_path):\n",
        "  orig_img = cv2.imread(image_path)\n",
        "\n",
        "  img = create_frequency_mask(image_path, 35)\n",
        "\n",
        "  # plt.imshow(img, cmap = 'gray')\n",
        "  # plt.show()\n",
        "\n",
        "  min_blob_size = 80\n",
        "  img = remove_small_blobs(img, min_blob_size)\n",
        "  img = cv2.bitwise_not(img)\n",
        "  # plt.imshow(img, cmap = 'gray')\n",
        "  # plt.show()\n",
        "  return img\n",
        "\n",
        "src = \"/drive/MyDrive/DIV2KRK_public/DIV2KRK/lr_x2\"\n",
        "dst = \"/drive/MyDrive/kernelGAN_Experiments/masks/B_and_O_F_final\"\n",
        "\n",
        "files = os.listdir(src)\n",
        "\n",
        "for file_name in files:\n",
        "  image_path = os.path.join(src, file_name)\n",
        "  img_num = extract_numbers_from_filename(file_name)\n",
        "  dir_path = os.path.join(dst, 'img'+str(img_num))\n",
        "  if not os.path.exists(dir_path):\n",
        "    os.mkdir(dir_path)\n",
        "  lr_back = create_mask(image_path)\n",
        "\n",
        "\n",
        "  new_path_back_hr = os.path.join(dir_path, \"back_hr_mask.png\")\n",
        "  new_path_back_lr = os.path.join(dir_path, \"back_lr_mask.png\")\n",
        "  new_path_obj_hr = os.path.join(dir_path, \"obj_hr_mask.png\")\n",
        "  new_path_obj_lr = os.path.join(dir_path, \"obj_lr_mask.png\")\n",
        "\n",
        "  hr_back = cv2.resize(lr_back, dsize=[lr_back.shape[1]*2, lr_back.shape[0]*2], interpolation=cv2.INTER_CUBIC)\n",
        "  hr_obj = cv2.bitwise_not(hr_back)\n",
        "  lr_obj = cv2.bitwise_not(lr_back)\n",
        "\n",
        "  cv2.imwrite(new_path_back_hr, hr_back)\n",
        "  cv2.imwrite(new_path_back_lr, lr_back)\n",
        "\n",
        "  cv2.imwrite(new_path_obj_hr, hr_obj)\n",
        "  cv2.imwrite(new_path_obj_lr, lr_obj)\n",
        "  print(new_path_back_hr)\n",
        "  print(new_path_back_lr)\n",
        "  print(new_path_obj_hr)\n",
        "  print(new_path_obj_lr)\n",
        "  import matplotlib.pyplot as plt\n",
        "\n",
        "  plt.imshow(hr_obj)\n",
        "  plt.show()\n",
        "  plt.imshow(hr_back)\n",
        "  plt.show()\n",
        "\n",
        "  break\n",
        "\n"
      ]
    }
  ],
  "metadata": {
    "accelerator": "GPU",
    "colab": {
      "provenance": []
    },
    "kernelspec": {
      "display_name": "Python 3",
      "name": "python3"
    },
    "language_info": {
      "name": "python"
    }
  },
  "nbformat": 4,
  "nbformat_minor": 0
}